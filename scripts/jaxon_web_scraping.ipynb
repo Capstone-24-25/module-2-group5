{
 "cells": [
  {
   "cell_type": "code",
   "execution_count": 1,
   "metadata": {},
   "outputs": [],
   "source": [
    "import pandas as pd\n",
    "import numpy as np\n",
    "import spacy\n",
    "import re\n",
    "from bs4 import BeautifulSoup"
   ]
  },
  {
   "cell_type": "code",
   "execution_count": 2,
   "metadata": {},
   "outputs": [],
   "source": [
    "def extract_headers(soup):\n",
    "  headers = []\n",
    "  for header_tag in ['h1', 'h2', 'h3', 'h4', 'h5', 'h6']:\n",
    "    for header in soup.find_all(header_tag):\n",
    "      headers.append(header.get_text(strip=True))\n",
    "  headers = ' '.join(headers)\n",
    "  return headers\n",
    "\n",
    "def extract_paragraphs(soup):\n",
    "  contents = []\n",
    "  for paragraph in soup.find_all('p'):\n",
    "    contents.append(paragraph.get_text(strip=True))\n",
    "  contents = ' '.join(contents)\n",
    "  return contents\n",
    "  "
   ]
  },
  {
   "cell_type": "code",
   "execution_count": 3,
   "metadata": {},
   "outputs": [],
   "source": [
    "df_clean = pd.read_csv('../data/claims_clean.csv')\n",
    "df_raw = pd.read_csv('../data/claims_raw.csv')\n",
    "\n",
    "df_raw['soup'] = df_raw['text_tmp'].apply(lambda x: BeautifulSoup(x, 'html.parser'))\n",
    "df_raw['headers'] = df_raw['soup'].apply(extract_headers)\n",
    "df_raw['paragraphs'] = df_raw['soup'].apply(extract_paragraphs)\n",
    "\n",
    "df_temp = pd.concat((df_clean['text_clean'], df_raw[['headers', 'paragraphs']]), axis=1) # concat h, p, and clean texts\n",
    "df_temp = df_temp.apply(lambda row: '\\n'.join(row.values.astype(str)), axis=1) # join them to a single cell\n",
    "df_model = pd.concat((df_temp, df_raw[['mclass', 'bclass']]), axis = 1) # add y to the df\n",
    "\n",
    "df_model.rename(columns={0: 'contents'}, inplace=True)"
   ]
  },
  {
   "cell_type": "code",
   "execution_count": null,
   "metadata": {},
   "outputs": [],
   "source": [
    "df_model.to_csv('../data/data_1_after_html_extraction.csv', index=False)"
   ]
  }
 ],
 "metadata": {
  "kernelspec": {
   "display_name": "pstat",
   "language": "python",
   "name": "python3"
  },
  "language_info": {
   "codemirror_mode": {
    "name": "ipython",
    "version": 3
   },
   "file_extension": ".py",
   "mimetype": "text/x-python",
   "name": "python",
   "nbconvert_exporter": "python",
   "pygments_lexer": "ipython3",
   "version": "3.12.7"
  }
 },
 "nbformat": 4,
 "nbformat_minor": 2
}
