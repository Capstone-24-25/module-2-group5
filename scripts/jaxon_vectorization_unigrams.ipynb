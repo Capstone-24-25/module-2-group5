{
 "cells": [
  {
   "cell_type": "code",
   "execution_count": 14,
   "metadata": {},
   "outputs": [],
   "source": [
    "import pandas as pd\n",
    "import numpy as np\n",
    "import spacy\n",
    "import re\n",
    "from sklearn.feature_extraction.text import TfidfVectorizer\n",
    "\n",
    "nlp = spacy.load('en_core_web_lg')\n"
   ]
  },
  {
   "cell_type": "code",
   "execution_count": 15,
   "metadata": {},
   "outputs": [],
   "source": [
    "def get_doc_vector(text):\n",
    "  doc = nlp(text)\n",
    "  return doc.vector"
   ]
  },
  {
   "cell_type": "code",
   "execution_count": 16,
   "metadata": {},
   "outputs": [],
   "source": [
    "df_model = pd.read_csv('../data/data_2_after_tokenization_lemmatization.csv')\n",
    "\n",
    "df_model['doc_vector'] = df_model['cleaned_text'].apply(get_doc_vector) # use spacy to vectorize contents\n",
    "\n",
    "# construct Tf Idf model with maximum 5000 features, capture only unigram\n",
    "tfidf = TfidfVectorizer(ngram_range=(1, 1), max_features=10000) \n",
    "tfidf_matrix = tfidf.fit_transform(df_model['cleaned_text']) # vectorize the texts\n",
    "df_tfidf = pd.DataFrame(tfidf_matrix.toarray(),\n",
    "                        columns=tfidf.get_feature_names_out()) # construct a new df for features extracted using tfidf\n",
    "\n",
    "df_doc_vectors = pd.DataFrame(df_model['doc_vector'].tolist())\n",
    "\n",
    "df_tfidf.reset_index(drop=True, inplace=True)\n",
    "df_doc_vectors.reset_index(drop=True, inplace=True)\n",
    "\n",
    "\n",
    "df_combined_vectors = pd.concat([df_tfidf, df_doc_vectors], axis=1) # combine spacy vectors and tfidf vectors"
   ]
  },
  {
   "cell_type": "code",
   "execution_count": 17,
   "metadata": {},
   "outputs": [
    {
     "data": {
      "text/plain": [
       "(2165, 5)"
      ]
     },
     "execution_count": 17,
     "metadata": {},
     "output_type": "execute_result"
    }
   ],
   "source": [
    "df_model.shape"
   ]
  },
  {
   "cell_type": "code",
   "execution_count": 18,
   "metadata": {},
   "outputs": [
    {
     "data": {
      "text/plain": [
       "(2165, 10300)"
      ]
     },
     "execution_count": 18,
     "metadata": {},
     "output_type": "execute_result"
    }
   ],
   "source": [
    "df_combined_vectors.shape"
   ]
  },
  {
   "cell_type": "code",
   "execution_count": 19,
   "metadata": {},
   "outputs": [],
   "source": [
    "df_combined_vectors.to_csv('../data/X_features_unigrams.csv', index=False)"
   ]
  },
  {
   "cell_type": "code",
   "execution_count": null,
   "metadata": {},
   "outputs": [],
   "source": []
  }
 ],
 "metadata": {
  "kernelspec": {
   "display_name": "pstat",
   "language": "python",
   "name": "python3"
  },
  "language_info": {
   "codemirror_mode": {
    "name": "ipython",
    "version": 3
   },
   "file_extension": ".py",
   "mimetype": "text/x-python",
   "name": "python",
   "nbconvert_exporter": "python",
   "pygments_lexer": "ipython3",
   "version": "3.12.7"
  }
 },
 "nbformat": 4,
 "nbformat_minor": 2
}
