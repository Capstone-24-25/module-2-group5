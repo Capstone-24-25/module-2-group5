{
 "cells": [
  {
   "cell_type": "code",
   "execution_count": 8,
   "metadata": {},
   "outputs": [],
   "source": [
    "import pandas as pd\n",
    "import numpy as np\n",
    "import spacy\n",
    "\n",
    "nlp = spacy.load('en_core_web_lg')"
   ]
  },
  {
   "cell_type": "code",
   "execution_count": 9,
   "metadata": {},
   "outputs": [],
   "source": [
    "def clean_text(text):\n",
    "  text = text.lower() # lower all the texts\n",
    "\n",
    "  # text = re.sub(r'http\\S+|www.\\S+', '', text) # remove all the links\n",
    "\n",
    "  doc = nlp(text)\n",
    "  cleaned_tokens = []\n",
    "\n",
    "  for token in doc:\n",
    "    if not token.is_punct and not token.is_stop: # remove punctuation and stop words\n",
    "      cleaned_tokens.append(token.lemma_) # lemmatization\n",
    "\n",
    "  return ' '.join(cleaned_tokens)"
   ]
  },
  {
   "cell_type": "code",
   "execution_count": 10,
   "metadata": {},
   "outputs": [],
   "source": [
    "df_model = pd.read_csv('../../data/data_1_after_html_extraction.csv')\n",
    "\n",
    "df_model['cleaned_text'] = df_model['contents'].apply(clean_text)"
   ]
  },
  {
   "cell_type": "code",
   "execution_count": null,
   "metadata": {},
   "outputs": [],
   "source": [
    "df_model.to_csv('../../data/data_2_after_tokenization_lemmatization.csv', index=False)"
   ]
  }
 ],
 "metadata": {
  "kernelspec": {
   "display_name": "pstat",
   "language": "python",
   "name": "python3"
  },
  "language_info": {
   "codemirror_mode": {
    "name": "ipython",
    "version": 3
   },
   "file_extension": ".py",
   "mimetype": "text/x-python",
   "name": "python",
   "nbconvert_exporter": "python",
   "pygments_lexer": "ipython3",
   "version": "3.12.7"
  }
 },
 "nbformat": 4,
 "nbformat_minor": 2
}
